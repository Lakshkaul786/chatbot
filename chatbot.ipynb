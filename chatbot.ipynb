{
 "cells": [
  {
   "cell_type": "code",
   "execution_count": 3,
   "metadata": {},
   "outputs": [
    {
     "name": "stdout",
     "output_type": "stream",
     "text": [
      "Welcome to the chatbot!\n",
      "Bot:  she is a chotii bacchiiiii\n",
      "Bot:  I was made by Laksh Kaul, Muskan Arora and Mansimar Singh\n",
      "Bot:  hello! I am your chatbot\n",
      "Bot:  I didn't understand that. Can you please rephrase?\n",
      "Bot:  I didn't understand that. Can you please rephrase?\n",
      "Bot:  Ms. Vishaka\n",
      "Bot:  I didn't understand that. Can you please rephrase?\n",
      "Bot: Goodbye!\n"
     ]
    }
   ],
   "source": [
    "import pandas as pd\n",
    "import random\n",
    "\n",
    "# Load the dataset from the CSV file\n",
    "df = pd.read_csv('dataset.csv')\n",
    "\n",
    "# Create a dictionary to store the questions and corresponding answers\n",
    "intents = {}\n",
    "for index, row in df.iterrows():\n",
    "    question = row['question'].lower().strip()  # Convert to lowercase and remove leading/trailing spaces\n",
    "    answer = row['answer']\n",
    "    if question not in intents:\n",
    "        intents[question] = answer\n",
    "\n",
    "# Create a function to respond to the user input\n",
    "def respond(user_input):\n",
    "    user_input = user_input.lower().strip()  # Convert user input to lowercase and remove leading/trailing spaces\n",
    "    if user_input in intents:\n",
    "        return intents[user_input]\n",
    "    else:\n",
    "        return \"I didn't understand that. Can you please rephrase?\"\n",
    "\n",
    "# Create a simple chatbot interface\n",
    "def chatbot():\n",
    "    print(\"Welcome to the chatbot!\")\n",
    "    while True:\n",
    "        user_input = input(\"You: \")\n",
    "        if user_input.lower() == 'bye' or user_input.lower() == 'exit':\n",
    "            print(\"Bot: Goodbye!\")\n",
    "            break\n",
    "        response = respond(user_input)\n",
    "        print(\"Bot: \", response)\n",
    "\n",
    "# Run the chatbot\n",
    "chatbot()\n"
   ]
  }
 ],
 "metadata": {
  "kernelspec": {
   "display_name": "Python 3",
   "language": "python",
   "name": "python3"
  },
  "language_info": {
   "codemirror_mode": {
    "name": "ipython",
    "version": 3
   },
   "file_extension": ".py",
   "mimetype": "text/x-python",
   "name": "python",
   "nbconvert_exporter": "python",
   "pygments_lexer": "ipython3",
   "version": "3.12.1"
  }
 },
 "nbformat": 4,
 "nbformat_minor": 2
}
